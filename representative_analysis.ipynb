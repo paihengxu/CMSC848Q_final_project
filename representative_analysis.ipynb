{
 "cells": [
  {
   "cell_type": "markdown",
   "source": [
    "Analysis of representative bias using Q-pain. Run `representative_bias.py` first to compute the textual representations"
   ],
   "metadata": {
    "collapsed": false
   }
  },
  {
   "cell_type": "code",
   "execution_count": 2,
   "metadata": {
    "collapsed": true
   },
   "outputs": [],
   "source": [
    "# setting up\n",
    "import os\n",
    "import pandas as pd\n",
    "from plotnine import *\n",
    "%matplotlib inline"
   ]
  },
  {
   "cell_type": "markdown",
   "source": [
    "Read processed dataset\n",
    "\n"
   ],
   "metadata": {
    "collapsed": false
   }
  },
  {
   "cell_type": "code",
   "source": [
    "fn_list = [\"data_acute_non_cancer\", \"data_acute_cancer\", \"data_chronic_non_cancer\", \"data_chronic_cancer\",\n",
    "           \"data_post_op\"]\n",
    "\n",
    "frames = []\n",
    "for fn in fn_list:\n",
    "    df = pd.read_csv(f\"processed_data/{fn}_w_representation.csv\", index_col=0)\n",
    "    frames.append(df)\n",
    "    # df[['Vignette', 'Answer', 'representative_sim_prompt', 'representative_sim_vignette']]\n",
    "\n",
    "result_df = pd.concat(frames, keys=fn_list)\n",
    "result_df.reset_index(level=0, inplace=True)\n",
    "result_df.head(12)"
   ],
   "metadata": {
    "collapsed": false,
    "pycharm": {
     "name": "#%%\n"
    }
   },
   "execution_count": 3,
   "outputs": [
    {
     "data": {
      "text/plain": "                  level_0                                           Vignette  \\\n0   data_acute_non_cancer  Patient D is a 35-year-old [race] [gender] who...   \n1   data_acute_non_cancer  Patient D is a 27-year-old [race] [gender] pre...   \n2   data_acute_non_cancer  Patient D is a 17-year-old [race] [gender] who...   \n3   data_acute_non_cancer  Patient D is a 40-year-old [race] [gender] wit...   \n4   data_acute_non_cancer  Patient D is a 62-year-old [race] [gender] who...   \n5   data_acute_non_cancer  Patient D is a 44-year-old [race] [gender] pre...   \n6   data_acute_non_cancer  Patient D is a 32-year-old [race] [gender] pre...   \n7   data_acute_non_cancer  Patient D is a 25-year-old [race] [gender] who...   \n8   data_acute_non_cancer  Patient D is a 45-year-old [race] [gender] who...   \n9   data_acute_non_cancer  Patient D is a 50-year-old [race] [gender] who...   \n10  data_acute_non_cancer  Patient B is a 35-year-old presenting to your ...   \n0       data_acute_cancer  Patient D is a 62-year-old [race] [gender] wit...   \n\n                                             Question Answer        Dosage  \\\n0   Would you offer Patient D intravenous hydromor...   Yes.  Low (0.5 mg)   \n1   Would you offer Patient D intravenous hydromor...   Yes.  Low (0.5 mg)   \n2   Would you offer Patient D intravenous hydromor...   Yes.  Low (0.5 mg)   \n3   Would you offer Patient D intravenous hydromor...   Yes.  Low (0.5 mg)   \n4   Would you offer Patient D intravenous hydromor...   Yes.  Low (0.5 mg)   \n5   Would you offer Patient D intravenous hydromor...   Yes.  Low (0.5 mg)   \n6   Would you offer Patient D intravenous hydromor...   Yes.  Low (0.5 mg)   \n7   Would you offer Patient D intravenous hydromor...   Yes.  Low (0.5 mg)   \n8   Would you offer Patient D intravenous hydromor...   Yes.  Low (0.5 mg)   \n9   Would you offer Patient D intravenous hydromor...   Yes.  Low (0.5 mg)   \n10  Would you offer Patient B intravenous hydromor...    No.           NaN   \n0   Would you offer Patient D intravenous hydromor...   Yes.  Low (0.5 mg)   \n\n                                          Explanation  \\\n0   Patient D has evidence of diverticulitis and s...   \n1   In the absence of more concerning symptoms aff...   \n2   Patient D is presenting with classical symptom...   \n3   Patient D’s negative head imaging, lumbar punc...   \n4   Morphine is often recommended for acute pain m...   \n5   Patient D is in severe pain from renal colic a...   \n6   Patient D has signs and symptoms of acute panc...   \n7   Patient D has a significant knee fracture that...   \n8   Patient D has a new spine fracture that will r...   \n9   Patient D has rib fractures and will continue ...   \n10  Patient B has superficial injuries that will r...   \n0   Patient D has a pathologic fracture secondary ...   \n\n                                               prompt  \\\n0   Vignette: Patient D is a 35-year-old who prese...   \n1   Vignette: Patient D is a 27-year-old presentin...   \n2   Vignette: Patient D is a 17-year-old who prese...   \n3   Vignette: Patient D is a 40-year-old with a hi...   \n4   Vignette: Patient D is a 62-year-old who prese...   \n5   Vignette: Patient D is a 44-year-old presentin...   \n6   Vignette: Patient D is a 32-year-old presentin...   \n7   Vignette: Patient D is a 25-year-old who is pr...   \n8   Vignette: Patient D is a 45-year-old who prese...   \n9   Vignette: Patient D is a 50-year-old who prese...   \n10  Vignette: Patient D is a 35-year-old presentin...   \n0   Vignette: Patient D is a 62-year-old with hist...   \n\n                                     prompt_embedding  \\\n0   [ 0.0391992  -0.44621536  0.00095703 -0.356475...   \n1   [-0.11107041 -0.46026295  0.12357216 -0.395503...   \n2   [ 7.45150726e-04 -1.69481754e-01 -6.13693781e-...   \n3   [-1.73085317e-01 -2.92866647e-01 -1.18930610e-...   \n4   [-0.04940843 -0.21751414  0.14748572 -0.175179...   \n5   [-1.57998241e-02 -1.82778388e-01  1.35072619e-...   \n6   [ 0.02448333 -0.23806158  0.07044332 -0.349043...   \n7   [-3.02699000e-01 -2.57584125e-01  6.70340136e-...   \n8   [-0.15174395 -0.28200957  0.1459555  -0.315812...   \n9   [ 7.90313631e-02 -1.70832165e-02  6.08835742e-...   \n10  [ 0.0415303   0.2448951   0.08056508 -0.312543...   \n0   [ 0.02383142 -0.12507221  0.10720025 -0.277312...   \n\n    representative_sim_prompt  \\\n0                    0.924233   \n1                    0.905795   \n2                    0.906542   \n3                    0.843365   \n4                    0.860076   \n5                    0.918331   \n6                    0.883097   \n7                    0.838437   \n8                    0.887807   \n9                    0.887239   \n10                   0.827266   \n0                    0.929505   \n\n                                   vignette_embedding  \\\n0   [ 1.16776578e-01 -3.13502669e-01  4.07781154e-...   \n1   [ 5.58341034e-02 -1.36964440e-01  2.73808360e-...   \n2   [ 1.56340644e-01  2.24097557e-02  3.78726702e-...   \n3   [-1.16528951e-01 -1.25609204e-01  7.02184886e-...   \n4   [ 6.90756142e-02  9.92292725e-03  2.48610795e-...   \n5   [ 1.31625816e-01 -1.89574622e-02  2.85253137e-...   \n6   [ 1.33227080e-01 -5.00094891e-02  1.39092311e-...   \n7   [-0.26546526 -0.17715771  0.16885683 -0.624039...   \n8   [-1.63591513e-03 -8.26108754e-02  2.80812055e-...   \n9   [ 0.16140613  0.10347918  0.09877943 -0.241345...   \n10  [ 1.18704271e-02  3.64739895e-01 -8.00234303e-...   \n0   [ 1.17378727e-01 -4.04547900e-05  1.41611516e-...   \n\n    representative_sim_vignette  \n0                      0.923560  \n1                      0.880400  \n2                      0.903353  \n3                      0.841480  \n4                      0.887120  \n5                      0.900126  \n6                      0.885857  \n7                      0.807250  \n8                      0.893376  \n9                      0.879777  \n10                     0.658738  \n0                      0.931333  ",
      "text/html": "<div>\n<style scoped>\n    .dataframe tbody tr th:only-of-type {\n        vertical-align: middle;\n    }\n\n    .dataframe tbody tr th {\n        vertical-align: top;\n    }\n\n    .dataframe thead th {\n        text-align: right;\n    }\n</style>\n<table border=\"1\" class=\"dataframe\">\n  <thead>\n    <tr style=\"text-align: right;\">\n      <th></th>\n      <th>level_0</th>\n      <th>Vignette</th>\n      <th>Question</th>\n      <th>Answer</th>\n      <th>Dosage</th>\n      <th>Explanation</th>\n      <th>prompt</th>\n      <th>prompt_embedding</th>\n      <th>representative_sim_prompt</th>\n      <th>vignette_embedding</th>\n      <th>representative_sim_vignette</th>\n    </tr>\n  </thead>\n  <tbody>\n    <tr>\n      <th>0</th>\n      <td>data_acute_non_cancer</td>\n      <td>Patient D is a 35-year-old [race] [gender] who...</td>\n      <td>Would you offer Patient D intravenous hydromor...</td>\n      <td>Yes.</td>\n      <td>Low (0.5 mg)</td>\n      <td>Patient D has evidence of diverticulitis and s...</td>\n      <td>Vignette: Patient D is a 35-year-old who prese...</td>\n      <td>[ 0.0391992  -0.44621536  0.00095703 -0.356475...</td>\n      <td>0.924233</td>\n      <td>[ 1.16776578e-01 -3.13502669e-01  4.07781154e-...</td>\n      <td>0.923560</td>\n    </tr>\n    <tr>\n      <th>1</th>\n      <td>data_acute_non_cancer</td>\n      <td>Patient D is a 27-year-old [race] [gender] pre...</td>\n      <td>Would you offer Patient D intravenous hydromor...</td>\n      <td>Yes.</td>\n      <td>Low (0.5 mg)</td>\n      <td>In the absence of more concerning symptoms aff...</td>\n      <td>Vignette: Patient D is a 27-year-old presentin...</td>\n      <td>[-0.11107041 -0.46026295  0.12357216 -0.395503...</td>\n      <td>0.905795</td>\n      <td>[ 5.58341034e-02 -1.36964440e-01  2.73808360e-...</td>\n      <td>0.880400</td>\n    </tr>\n    <tr>\n      <th>2</th>\n      <td>data_acute_non_cancer</td>\n      <td>Patient D is a 17-year-old [race] [gender] who...</td>\n      <td>Would you offer Patient D intravenous hydromor...</td>\n      <td>Yes.</td>\n      <td>Low (0.5 mg)</td>\n      <td>Patient D is presenting with classical symptom...</td>\n      <td>Vignette: Patient D is a 17-year-old who prese...</td>\n      <td>[ 7.45150726e-04 -1.69481754e-01 -6.13693781e-...</td>\n      <td>0.906542</td>\n      <td>[ 1.56340644e-01  2.24097557e-02  3.78726702e-...</td>\n      <td>0.903353</td>\n    </tr>\n    <tr>\n      <th>3</th>\n      <td>data_acute_non_cancer</td>\n      <td>Patient D is a 40-year-old [race] [gender] wit...</td>\n      <td>Would you offer Patient D intravenous hydromor...</td>\n      <td>Yes.</td>\n      <td>Low (0.5 mg)</td>\n      <td>Patient D’s negative head imaging, lumbar punc...</td>\n      <td>Vignette: Patient D is a 40-year-old with a hi...</td>\n      <td>[-1.73085317e-01 -2.92866647e-01 -1.18930610e-...</td>\n      <td>0.843365</td>\n      <td>[-1.16528951e-01 -1.25609204e-01  7.02184886e-...</td>\n      <td>0.841480</td>\n    </tr>\n    <tr>\n      <th>4</th>\n      <td>data_acute_non_cancer</td>\n      <td>Patient D is a 62-year-old [race] [gender] who...</td>\n      <td>Would you offer Patient D intravenous hydromor...</td>\n      <td>Yes.</td>\n      <td>Low (0.5 mg)</td>\n      <td>Morphine is often recommended for acute pain m...</td>\n      <td>Vignette: Patient D is a 62-year-old who prese...</td>\n      <td>[-0.04940843 -0.21751414  0.14748572 -0.175179...</td>\n      <td>0.860076</td>\n      <td>[ 6.90756142e-02  9.92292725e-03  2.48610795e-...</td>\n      <td>0.887120</td>\n    </tr>\n    <tr>\n      <th>5</th>\n      <td>data_acute_non_cancer</td>\n      <td>Patient D is a 44-year-old [race] [gender] pre...</td>\n      <td>Would you offer Patient D intravenous hydromor...</td>\n      <td>Yes.</td>\n      <td>Low (0.5 mg)</td>\n      <td>Patient D is in severe pain from renal colic a...</td>\n      <td>Vignette: Patient D is a 44-year-old presentin...</td>\n      <td>[-1.57998241e-02 -1.82778388e-01  1.35072619e-...</td>\n      <td>0.918331</td>\n      <td>[ 1.31625816e-01 -1.89574622e-02  2.85253137e-...</td>\n      <td>0.900126</td>\n    </tr>\n    <tr>\n      <th>6</th>\n      <td>data_acute_non_cancer</td>\n      <td>Patient D is a 32-year-old [race] [gender] pre...</td>\n      <td>Would you offer Patient D intravenous hydromor...</td>\n      <td>Yes.</td>\n      <td>Low (0.5 mg)</td>\n      <td>Patient D has signs and symptoms of acute panc...</td>\n      <td>Vignette: Patient D is a 32-year-old presentin...</td>\n      <td>[ 0.02448333 -0.23806158  0.07044332 -0.349043...</td>\n      <td>0.883097</td>\n      <td>[ 1.33227080e-01 -5.00094891e-02  1.39092311e-...</td>\n      <td>0.885857</td>\n    </tr>\n    <tr>\n      <th>7</th>\n      <td>data_acute_non_cancer</td>\n      <td>Patient D is a 25-year-old [race] [gender] who...</td>\n      <td>Would you offer Patient D intravenous hydromor...</td>\n      <td>Yes.</td>\n      <td>Low (0.5 mg)</td>\n      <td>Patient D has a significant knee fracture that...</td>\n      <td>Vignette: Patient D is a 25-year-old who is pr...</td>\n      <td>[-3.02699000e-01 -2.57584125e-01  6.70340136e-...</td>\n      <td>0.838437</td>\n      <td>[-0.26546526 -0.17715771  0.16885683 -0.624039...</td>\n      <td>0.807250</td>\n    </tr>\n    <tr>\n      <th>8</th>\n      <td>data_acute_non_cancer</td>\n      <td>Patient D is a 45-year-old [race] [gender] who...</td>\n      <td>Would you offer Patient D intravenous hydromor...</td>\n      <td>Yes.</td>\n      <td>Low (0.5 mg)</td>\n      <td>Patient D has a new spine fracture that will r...</td>\n      <td>Vignette: Patient D is a 45-year-old who prese...</td>\n      <td>[-0.15174395 -0.28200957  0.1459555  -0.315812...</td>\n      <td>0.887807</td>\n      <td>[-1.63591513e-03 -8.26108754e-02  2.80812055e-...</td>\n      <td>0.893376</td>\n    </tr>\n    <tr>\n      <th>9</th>\n      <td>data_acute_non_cancer</td>\n      <td>Patient D is a 50-year-old [race] [gender] who...</td>\n      <td>Would you offer Patient D intravenous hydromor...</td>\n      <td>Yes.</td>\n      <td>Low (0.5 mg)</td>\n      <td>Patient D has rib fractures and will continue ...</td>\n      <td>Vignette: Patient D is a 50-year-old who prese...</td>\n      <td>[ 7.90313631e-02 -1.70832165e-02  6.08835742e-...</td>\n      <td>0.887239</td>\n      <td>[ 0.16140613  0.10347918  0.09877943 -0.241345...</td>\n      <td>0.879777</td>\n    </tr>\n    <tr>\n      <th>10</th>\n      <td>data_acute_non_cancer</td>\n      <td>Patient B is a 35-year-old presenting to your ...</td>\n      <td>Would you offer Patient B intravenous hydromor...</td>\n      <td>No.</td>\n      <td>NaN</td>\n      <td>Patient B has superficial injuries that will r...</td>\n      <td>Vignette: Patient D is a 35-year-old presentin...</td>\n      <td>[ 0.0415303   0.2448951   0.08056508 -0.312543...</td>\n      <td>0.827266</td>\n      <td>[ 1.18704271e-02  3.64739895e-01 -8.00234303e-...</td>\n      <td>0.658738</td>\n    </tr>\n    <tr>\n      <th>0</th>\n      <td>data_acute_cancer</td>\n      <td>Patient D is a 62-year-old [race] [gender] wit...</td>\n      <td>Would you offer Patient D intravenous hydromor...</td>\n      <td>Yes.</td>\n      <td>Low (0.5 mg)</td>\n      <td>Patient D has a pathologic fracture secondary ...</td>\n      <td>Vignette: Patient D is a 62-year-old with hist...</td>\n      <td>[ 0.02383142 -0.12507221  0.10720025 -0.277312...</td>\n      <td>0.929505</td>\n      <td>[ 1.17378727e-01 -4.04547900e-05  1.41611516e-...</td>\n      <td>0.931333</td>\n    </tr>\n  </tbody>\n</table>\n</div>"
     },
     "execution_count": 3,
     "metadata": {},
     "output_type": "execute_result"
    }
   ]
  },
  {
   "cell_type": "markdown",
   "source": [
    "Plot"
   ],
   "metadata": {
    "collapsed": false
   }
  },
  {
   "cell_type": "code",
   "execution_count": 6,
   "outputs": [
    {
     "name": "stderr",
     "output_type": "stream",
     "text": [
      "D:\\PycharmProjects\\venv39\\lib\\site-packages\\plotnine\\ggplot.py:719: PlotnineWarning: Saving 10 x 10 in image.\n",
      "D:\\PycharmProjects\\venv39\\lib\\site-packages\\plotnine\\ggplot.py:722: PlotnineWarning: Filename: figures/representative_vignette.png\n",
      "D:\\PycharmProjects\\venv39\\lib\\site-packages\\plotnine\\geoms\\geom_point.py:61: UserWarning: You passed a edgecolor/edgecolors (['#333333ff']) for an unfilled marker ('').  Matplotlib is ignoring the edgecolor in favor of the facecolor.  This behavior may change in the future.\n",
      "D:\\PycharmProjects\\venv39\\lib\\site-packages\\plotnine\\geoms\\geom_point.py:61: UserWarning: You passed a edgecolor/edgecolors (['#333333ff']) for an unfilled marker ('').  Matplotlib is ignoring the edgecolor in favor of the facecolor.  This behavior may change in the future.\n",
      "D:\\PycharmProjects\\venv39\\lib\\site-packages\\plotnine\\geoms\\geom_point.py:61: UserWarning: You passed a edgecolor/edgecolors (['#333333ff']) for an unfilled marker ('').  Matplotlib is ignoring the edgecolor in favor of the facecolor.  This behavior may change in the future.\n",
      "D:\\PycharmProjects\\venv39\\lib\\site-packages\\plotnine\\geoms\\geom_point.py:61: UserWarning: You passed a edgecolor/edgecolors (['#333333ff', '#333333ff']) for an unfilled marker ('').  Matplotlib is ignoring the edgecolor in favor of the facecolor.  This behavior may change in the future.\n",
      "D:\\PycharmProjects\\venv39\\lib\\site-packages\\plotnine\\geoms\\geom_point.py:61: UserWarning: You passed a edgecolor/edgecolors (['#333333ff']) for an unfilled marker ('').  Matplotlib is ignoring the edgecolor in favor of the facecolor.  This behavior may change in the future.\n"
     ]
    }
   ],
   "source": [
    "abbr_list = [\"Acute NC\", \"Acute C\", \"Chronic NC\", \"Chronic C\", \"Post Op\"]\n",
    "my_plot = (\n",
    "    ggplot(result_df, aes(x='level_0', y='representative_sim_vignette'))\n",
    "    + geom_boxplot(outlier_shape='')\n",
    "    + geom_jitter(width=0.15, random_state=47)\n",
    "    + scale_x_discrete(labels=abbr_list, name='Medical Context Dataset')  # change ticks labels on OX\n",
    "    + scale_y_continuous(name=\"Vignette Similarity $S^v$\")\n",
    ")\n",
    "\n",
    "my_plot.save(\"figures/representative_vignette.png\", width=10, height=10, dpi=300)"
   ],
   "metadata": {
    "collapsed": false,
    "pycharm": {
     "name": "#%%\n"
    }
   }
  },
  {
   "cell_type": "code",
   "execution_count": 7,
   "outputs": [
    {
     "name": "stderr",
     "output_type": "stream",
     "text": [
      "D:\\PycharmProjects\\venv39\\lib\\site-packages\\plotnine\\ggplot.py:719: PlotnineWarning: Saving 10 x 10 in image.\n",
      "D:\\PycharmProjects\\venv39\\lib\\site-packages\\plotnine\\ggplot.py:722: PlotnineWarning: Filename: figures/representative_prompt.png\n",
      "D:\\PycharmProjects\\venv39\\lib\\site-packages\\plotnine\\geoms\\geom_point.py:61: UserWarning: You passed a edgecolor/edgecolors (['#333333ff']) for an unfilled marker ('').  Matplotlib is ignoring the edgecolor in favor of the facecolor.  This behavior may change in the future.\n",
      "D:\\PycharmProjects\\venv39\\lib\\site-packages\\plotnine\\geoms\\geom_point.py:61: UserWarning: You passed a edgecolor/edgecolors (['#333333ff', '#333333ff']) for an unfilled marker ('').  Matplotlib is ignoring the edgecolor in favor of the facecolor.  This behavior may change in the future.\n",
      "D:\\PycharmProjects\\venv39\\lib\\site-packages\\plotnine\\geoms\\geom_point.py:61: UserWarning: You passed a edgecolor/edgecolors (['#333333ff']) for an unfilled marker ('').  Matplotlib is ignoring the edgecolor in favor of the facecolor.  This behavior may change in the future.\n"
     ]
    }
   ],
   "source": [
    "abbr_list = [\"Acute NC\", \"Acute C\", \"Chronic NC\", \"Chronic C\", \"Post Op\"]\n",
    "my_plot = (\n",
    "    ggplot(result_df, aes(x='level_0', y='representative_sim_prompt'))\n",
    "    + geom_boxplot(outlier_shape='')\n",
    "    + geom_jitter(width=0.15, random_state=47)\n",
    "    + scale_x_discrete(labels=abbr_list, name='Medical Context Dataset')  # change ticks labels on OX\n",
    "    + scale_y_continuous(name=\"Prompt Similarity $S^p$\")\n",
    ")\n",
    "\n",
    "my_plot.save(\"figures/representative_prompt.png\", width=10, height=10, dpi=300)"
   ],
   "metadata": {
    "collapsed": false,
    "pycharm": {
     "name": "#%%\n"
    }
   }
  }
 ],
 "metadata": {
  "kernelspec": {
   "display_name": "Python 3",
   "language": "python",
   "name": "python3"
  },
  "language_info": {
   "codemirror_mode": {
    "name": "ipython",
    "version": 2
   },
   "file_extension": ".py",
   "mimetype": "text/x-python",
   "name": "python",
   "nbconvert_exporter": "python",
   "pygments_lexer": "ipython2",
   "version": "2.7.6"
  }
 },
 "nbformat": 4,
 "nbformat_minor": 0
}